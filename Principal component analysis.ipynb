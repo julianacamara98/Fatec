{
  "nbformat": 4,
  "nbformat_minor": 0,
  "metadata": {
    "colab": {
      "provenance": [],
      "authorship_tag": "ABX9TyPx81LADc8QeN5e2KNxCqvc",
      "include_colab_link": true
    },
    "kernelspec": {
      "name": "python3",
      "display_name": "Python 3"
    },
    "language_info": {
      "name": "python"
    }
  },
  "cells": [
    {
      "cell_type": "markdown",
      "metadata": {
        "id": "view-in-github",
        "colab_type": "text"
      },
      "source": [
        "<a href=\"https://colab.research.google.com/github/julianacamara98/Fatec/blob/main/Principal%20component%20analysis.ipynb\" target=\"_parent\"><img src=\"https://colab.research.google.com/assets/colab-badge.svg\" alt=\"Open In Colab\"/></a>"
      ]
    },
    {
      "cell_type": "markdown",
      "source": [
        "# Carregando o DataFrame - Causas de mortes em países ao redor do mundo dos anos de 1990 à 2019."
      ],
      "metadata": {
        "id": "m84ELcAmgBZz"
      }
    },
    {
      "cell_type": "code",
      "execution_count": 1,
      "metadata": {
        "id": "l7cZBwNyXvsf"
      },
      "outputs": [],
      "source": [
        "import pandas as pd\n",
        "import numpy as np\n"
      ]
    },
    {
      "cell_type": "code",
      "source": [
        "causas_mortes = pd.read_csv('cause_of_deaths.csv')\n",
        "causas_mortes = pd.DataFrame(causas_mortes)\n",
        "print(causas_mortes)"
      ],
      "metadata": {
        "id": "4gR2NxraX24_"
      },
      "execution_count": null,
      "outputs": []
    },
    {
      "cell_type": "markdown",
      "source": [
        "# Removendo valores duplicados da coluna de \"Country/Territory\". Serão contabilizados somente os registros dos anos de 1990 para cada país."
      ],
      "metadata": {
        "id": "zGAvkFwxntCp"
      }
    },
    {
      "cell_type": "code",
      "source": [
        "causas_mortes = causas_mortes.drop_duplicates(subset= 'Country/Territory')\n",
        "print(causas_mortes)"
      ],
      "metadata": {
        "id": "BMiHD7ZLmv48"
      },
      "execution_count": null,
      "outputs": []
    },
    {
      "cell_type": "code",
      "source": [
        "causas_mortes.info()"
      ],
      "metadata": {
        "id": "lnELFW5Wm5_o"
      },
      "execution_count": null,
      "outputs": []
    },
    {
      "cell_type": "markdown",
      "source": [
        "# Criando a matriz numérica para o calculo da correlação."
      ],
      "metadata": {
        "id": "b4zVBwHSoTjq"
      }
    },
    {
      "cell_type": "code",
      "source": [
        "variaveis_numericas = causas_mortes.drop(columns= ['Country/Territory', 'Code', \"Year\"])\n",
        "variaveis_numericas.corr()"
      ],
      "metadata": {
        "id": "eoascP7xnTuC"
      },
      "execution_count": null,
      "outputs": []
    },
    {
      "cell_type": "markdown",
      "source": [
        "# Verificando as condições dos dados para aplicar o PCA"
      ],
      "metadata": {
        "id": "Tq-PArTWp5bS"
      }
    },
    {
      "cell_type": "code",
      "source": [
        "!pip install factor_analyzer"
      ],
      "metadata": {
        "id": "KtAtds9YpXbd"
      },
      "execution_count": null,
      "outputs": []
    },
    {
      "cell_type": "code",
      "source": [
        "from factor_analyzer.factor_analyzer import calculate_kmo"
      ],
      "metadata": {
        "id": "1vWzIPveplH4"
      },
      "execution_count": 11,
      "outputs": []
    },
    {
      "cell_type": "code",
      "source": [
        "kmo_variaveis, kmo = calculate_kmo(variaveis_numericas)"
      ],
      "metadata": {
        "id": "seIkUT1HptxK"
      },
      "execution_count": null,
      "outputs": []
    },
    {
      "cell_type": "code",
      "source": [
        "kmo_variaveis"
      ],
      "metadata": {
        "id": "3pp66f99pv5S"
      },
      "execution_count": null,
      "outputs": []
    },
    {
      "cell_type": "code",
      "source": [
        "kmo"
      ],
      "metadata": {
        "id": "PgbubAOgp1YA"
      },
      "execution_count": null,
      "outputs": []
    },
    {
      "cell_type": "code",
      "source": [
        "from factor_analyzer.factor_analyzer import calculate_bartlett_sphericity"
      ],
      "metadata": {
        "id": "BfwkfvNIp2iB"
      },
      "execution_count": null,
      "outputs": []
    },
    {
      "cell_type": "code",
      "source": [
        "qui_quadrado, pvalor = calculate_bartlett_sphericity(variaveis_numericas)"
      ],
      "metadata": {
        "id": "2VkjFcw5qHYg"
      },
      "execution_count": null,
      "outputs": []
    },
    {
      "cell_type": "code",
      "source": [
        "print(qui_quadrado)\n",
        "print(pvalor)"
      ],
      "metadata": {
        "id": "IV0dvh4CqKBX"
      },
      "execution_count": null,
      "outputs": []
    },
    {
      "cell_type": "code",
      "source": [
        "pvalor < 0.05"
      ],
      "metadata": {
        "id": "uo1mP9qHqMAw"
      },
      "execution_count": null,
      "outputs": []
    },
    {
      "cell_type": "markdown",
      "source": [
        "# Padronizando as variáveis numéricas"
      ],
      "metadata": {
        "id": "vADYdFCj2x34"
      }
    },
    {
      "cell_type": "code",
      "source": [
        "from sklearn.preprocessing import StandardScaler"
      ],
      "metadata": {
        "id": "s-EoOiCn8cQD"
      },
      "execution_count": 57,
      "outputs": []
    },
    {
      "cell_type": "code",
      "source": [
        "padronizar = StandardScaler()\n",
        "variaveis_numericas = padronizar.fit_transform(variaveis_numericas)\n",
        "variaveis_numericas"
      ],
      "metadata": {
        "id": "IMIHFQfa8lSO"
      },
      "execution_count": null,
      "outputs": []
    },
    {
      "cell_type": "code",
      "source": [
        "dados_padronizados = pd.DataFrame(variaveis_numericas, columns= colunas_numericas)\n",
        "dados_padronizados"
      ],
      "metadata": {
        "colab": {
          "base_uri": "https://localhost:8080/",
          "height": 557
        },
        "id": "GBqXoznQCPSu",
        "outputId": "25e4b7e5-aaf8-47e5-e726-3f48a160f301"
      },
      "execution_count": 60,
      "outputs": [
        {
          "output_type": "execute_result",
          "data": {
            "text/plain": [
              "      Meningitis  Alzheimer's Disease and Other Dementias  \\\n",
              "0       0.065847                                -0.205728   \n",
              "1       0.074691                                -0.204630   \n",
              "2       0.113213                                -0.203203   \n",
              "3       0.163727                                -0.201831   \n",
              "4       0.195954                                -0.200513   \n",
              "...          ...                                      ...   \n",
              "6115   -0.042075                                -0.225597   \n",
              "6116   -0.039377                                -0.224883   \n",
              "6117   -0.038927                                -0.224115   \n",
              "6118   -0.040426                                -0.223347   \n",
              "6119   -0.040426                                -0.222413   \n",
              "\n",
              "      Parkinson's Disease  Nutritional Deficiencies   Malaria  Drowning  \\\n",
              "0               -0.173788                 -0.015893 -0.219684 -0.035300   \n",
              "1               -0.173139                 -0.009597 -0.214474 -0.032934   \n",
              "2               -0.172272                  0.017877 -0.211761 -0.019077   \n",
              "3               -0.170972                  0.055653 -0.218870  0.000413   \n",
              "4               -0.169455                  0.078929 -0.213281  0.014158   \n",
              "...                   ...                       ...       ...       ...   \n",
              "6115            -0.207586                  0.073015 -0.088079 -0.102896   \n",
              "6116            -0.206719                  0.076545 -0.113477 -0.099403   \n",
              "6117            -0.205852                  0.070249 -0.109895 -0.097488   \n",
              "6118            -0.204986                  0.063380 -0.111415 -0.096700   \n",
              "6119            -0.203903                  0.060137 -0.112500 -0.096474   \n",
              "\n",
              "      Interpersonal Violence  Maternal Disorders  HIV/AIDS  \\\n",
              "0                  -0.078913            0.229866 -0.281191   \n",
              "1                  -0.011971            0.267836 -0.280858   \n",
              "2                   0.031115            0.338823 -0.280525   \n",
              "3                   0.073044            0.397593 -0.280144   \n",
              "4                   0.110635            0.429289 -0.279811   \n",
              "...                      ...                 ...       ...   \n",
              "6115               -0.113035            0.015256  1.105180   \n",
              "6116               -0.107251            0.012449  1.008989   \n",
              "6117               -0.104215            0.008157  0.899756   \n",
              "6118               -0.099444            0.005185  0.769344   \n",
              "6119               -0.093950            0.005185  0.703471   \n",
              "\n",
              "      Drug Use Disorders  ...  Diabetes Mellitus  Chronic Kidney Disease  \\\n",
              "0              -0.117648  ...          -0.180703               -0.061639   \n",
              "1              -0.114543  ...          -0.179988               -0.060728   \n",
              "2              -0.109023  ...          -0.178020               -0.057570   \n",
              "3              -0.104193  ...          -0.175516               -0.052349   \n",
              "4              -0.100743  ...          -0.173370               -0.048098   \n",
              "...                  ...  ...                ...                     ...   \n",
              "6115           -0.113853  ...          -0.117025               -0.158851   \n",
              "6116           -0.111783  ...          -0.112076               -0.155694   \n",
              "6117           -0.110058  ...          -0.108856               -0.153508   \n",
              "6118           -0.107988  ...          -0.104802               -0.150836   \n",
              "6119           -0.105918  ...          -0.100091               -0.147679   \n",
              "\n",
              "      Poisonings  Protein-Energy Malnutrition  Road Injuries  \\\n",
              "0      -0.043023                     0.010660      -0.073739   \n",
              "1      -0.036595                     0.018534      -0.060541   \n",
              "2      -0.019290                     0.053057      -0.034230   \n",
              "3      -0.000007                     0.100663      -0.010367   \n",
              "4       0.012849                     0.129856       0.002914   \n",
              "...          ...                          ...            ...   \n",
              "6115   -0.021762                     0.124042      -0.147652   \n",
              "6116   -0.015829                     0.128524      -0.145037   \n",
              "6117   -0.013357                     0.120650      -0.143502   \n",
              "6118   -0.012368                     0.111928      -0.142008   \n",
              "6119   -0.009895                     0.107689      -0.140140   \n",
              "\n",
              "      Chronic Respiratory Diseases  \\\n",
              "0                        -0.106015   \n",
              "1                        -0.105017   \n",
              "2                        -0.103372   \n",
              "3                        -0.101260   \n",
              "4                        -0.099178   \n",
              "...                            ...   \n",
              "6115                     -0.136392   \n",
              "6116                     -0.136040   \n",
              "6117                     -0.135754   \n",
              "6118                     -0.135459   \n",
              "6119                     -0.135060   \n",
              "\n",
              "      Cirrhosis and Other Chronic Liver Diseases  Digestive Diseases  \\\n",
              "0                                      -0.166828           -0.153667   \n",
              "1                                      -0.164169           -0.150578   \n",
              "2                                      -0.159238           -0.144802   \n",
              "3                                      -0.153776           -0.138543   \n",
              "4                                      -0.149715           -0.133949   \n",
              "...                                          ...                 ...   \n",
              "6115                                   -0.201488           -0.175239   \n",
              "6116                                   -0.201198           -0.173573   \n",
              "6117                                   -0.199023           -0.171478   \n",
              "6118                                   -0.197911           -0.170538   \n",
              "6119                                   -0.196219           -0.168926   \n",
              "\n",
              "      Fire, Heat, and Hot Substances  Acute Hepatitis  \n",
              "0                          -0.124840         0.565397  \n",
              "1                          -0.120611         0.590960  \n",
              "2                          -0.107456         0.646626  \n",
              "3                          -0.090542         0.712565  \n",
              "4                          -0.079266         0.763931  \n",
              "...                              ...              ...  \n",
              "6115                        0.020338        -0.112868  \n",
              "6116                        0.027856        -0.112868  \n",
              "6117                        0.030675        -0.113346  \n",
              "6118                        0.032084        -0.114540  \n",
              "6119                        0.034433        -0.115257  \n",
              "\n",
              "[6120 rows x 31 columns]"
            ],
            "text/html": [
              "\n",
              "  <div id=\"df-017c90e7-3dde-4644-b54e-bbc20ae24ae6\">\n",
              "    <div class=\"colab-df-container\">\n",
              "      <div>\n",
              "<style scoped>\n",
              "    .dataframe tbody tr th:only-of-type {\n",
              "        vertical-align: middle;\n",
              "    }\n",
              "\n",
              "    .dataframe tbody tr th {\n",
              "        vertical-align: top;\n",
              "    }\n",
              "\n",
              "    .dataframe thead th {\n",
              "        text-align: right;\n",
              "    }\n",
              "</style>\n",
              "<table border=\"1\" class=\"dataframe\">\n",
              "  <thead>\n",
              "    <tr style=\"text-align: right;\">\n",
              "      <th></th>\n",
              "      <th>Meningitis</th>\n",
              "      <th>Alzheimer's Disease and Other Dementias</th>\n",
              "      <th>Parkinson's Disease</th>\n",
              "      <th>Nutritional Deficiencies</th>\n",
              "      <th>Malaria</th>\n",
              "      <th>Drowning</th>\n",
              "      <th>Interpersonal Violence</th>\n",
              "      <th>Maternal Disorders</th>\n",
              "      <th>HIV/AIDS</th>\n",
              "      <th>Drug Use Disorders</th>\n",
              "      <th>...</th>\n",
              "      <th>Diabetes Mellitus</th>\n",
              "      <th>Chronic Kidney Disease</th>\n",
              "      <th>Poisonings</th>\n",
              "      <th>Protein-Energy Malnutrition</th>\n",
              "      <th>Road Injuries</th>\n",
              "      <th>Chronic Respiratory Diseases</th>\n",
              "      <th>Cirrhosis and Other Chronic Liver Diseases</th>\n",
              "      <th>Digestive Diseases</th>\n",
              "      <th>Fire, Heat, and Hot Substances</th>\n",
              "      <th>Acute Hepatitis</th>\n",
              "    </tr>\n",
              "  </thead>\n",
              "  <tbody>\n",
              "    <tr>\n",
              "      <th>0</th>\n",
              "      <td>0.065847</td>\n",
              "      <td>-0.205728</td>\n",
              "      <td>-0.173788</td>\n",
              "      <td>-0.015893</td>\n",
              "      <td>-0.219684</td>\n",
              "      <td>-0.035300</td>\n",
              "      <td>-0.078913</td>\n",
              "      <td>0.229866</td>\n",
              "      <td>-0.281191</td>\n",
              "      <td>-0.117648</td>\n",
              "      <td>...</td>\n",
              "      <td>-0.180703</td>\n",
              "      <td>-0.061639</td>\n",
              "      <td>-0.043023</td>\n",
              "      <td>0.010660</td>\n",
              "      <td>-0.073739</td>\n",
              "      <td>-0.106015</td>\n",
              "      <td>-0.166828</td>\n",
              "      <td>-0.153667</td>\n",
              "      <td>-0.124840</td>\n",
              "      <td>0.565397</td>\n",
              "    </tr>\n",
              "    <tr>\n",
              "      <th>1</th>\n",
              "      <td>0.074691</td>\n",
              "      <td>-0.204630</td>\n",
              "      <td>-0.173139</td>\n",
              "      <td>-0.009597</td>\n",
              "      <td>-0.214474</td>\n",
              "      <td>-0.032934</td>\n",
              "      <td>-0.011971</td>\n",
              "      <td>0.267836</td>\n",
              "      <td>-0.280858</td>\n",
              "      <td>-0.114543</td>\n",
              "      <td>...</td>\n",
              "      <td>-0.179988</td>\n",
              "      <td>-0.060728</td>\n",
              "      <td>-0.036595</td>\n",
              "      <td>0.018534</td>\n",
              "      <td>-0.060541</td>\n",
              "      <td>-0.105017</td>\n",
              "      <td>-0.164169</td>\n",
              "      <td>-0.150578</td>\n",
              "      <td>-0.120611</td>\n",
              "      <td>0.590960</td>\n",
              "    </tr>\n",
              "    <tr>\n",
              "      <th>2</th>\n",
              "      <td>0.113213</td>\n",
              "      <td>-0.203203</td>\n",
              "      <td>-0.172272</td>\n",
              "      <td>0.017877</td>\n",
              "      <td>-0.211761</td>\n",
              "      <td>-0.019077</td>\n",
              "      <td>0.031115</td>\n",
              "      <td>0.338823</td>\n",
              "      <td>-0.280525</td>\n",
              "      <td>-0.109023</td>\n",
              "      <td>...</td>\n",
              "      <td>-0.178020</td>\n",
              "      <td>-0.057570</td>\n",
              "      <td>-0.019290</td>\n",
              "      <td>0.053057</td>\n",
              "      <td>-0.034230</td>\n",
              "      <td>-0.103372</td>\n",
              "      <td>-0.159238</td>\n",
              "      <td>-0.144802</td>\n",
              "      <td>-0.107456</td>\n",
              "      <td>0.646626</td>\n",
              "    </tr>\n",
              "    <tr>\n",
              "      <th>3</th>\n",
              "      <td>0.163727</td>\n",
              "      <td>-0.201831</td>\n",
              "      <td>-0.170972</td>\n",
              "      <td>0.055653</td>\n",
              "      <td>-0.218870</td>\n",
              "      <td>0.000413</td>\n",
              "      <td>0.073044</td>\n",
              "      <td>0.397593</td>\n",
              "      <td>-0.280144</td>\n",
              "      <td>-0.104193</td>\n",
              "      <td>...</td>\n",
              "      <td>-0.175516</td>\n",
              "      <td>-0.052349</td>\n",
              "      <td>-0.000007</td>\n",
              "      <td>0.100663</td>\n",
              "      <td>-0.010367</td>\n",
              "      <td>-0.101260</td>\n",
              "      <td>-0.153776</td>\n",
              "      <td>-0.138543</td>\n",
              "      <td>-0.090542</td>\n",
              "      <td>0.712565</td>\n",
              "    </tr>\n",
              "    <tr>\n",
              "      <th>4</th>\n",
              "      <td>0.195954</td>\n",
              "      <td>-0.200513</td>\n",
              "      <td>-0.169455</td>\n",
              "      <td>0.078929</td>\n",
              "      <td>-0.213281</td>\n",
              "      <td>0.014158</td>\n",
              "      <td>0.110635</td>\n",
              "      <td>0.429289</td>\n",
              "      <td>-0.279811</td>\n",
              "      <td>-0.100743</td>\n",
              "      <td>...</td>\n",
              "      <td>-0.173370</td>\n",
              "      <td>-0.048098</td>\n",
              "      <td>0.012849</td>\n",
              "      <td>0.129856</td>\n",
              "      <td>0.002914</td>\n",
              "      <td>-0.099178</td>\n",
              "      <td>-0.149715</td>\n",
              "      <td>-0.133949</td>\n",
              "      <td>-0.079266</td>\n",
              "      <td>0.763931</td>\n",
              "    </tr>\n",
              "    <tr>\n",
              "      <th>...</th>\n",
              "      <td>...</td>\n",
              "      <td>...</td>\n",
              "      <td>...</td>\n",
              "      <td>...</td>\n",
              "      <td>...</td>\n",
              "      <td>...</td>\n",
              "      <td>...</td>\n",
              "      <td>...</td>\n",
              "      <td>...</td>\n",
              "      <td>...</td>\n",
              "      <td>...</td>\n",
              "      <td>...</td>\n",
              "      <td>...</td>\n",
              "      <td>...</td>\n",
              "      <td>...</td>\n",
              "      <td>...</td>\n",
              "      <td>...</td>\n",
              "      <td>...</td>\n",
              "      <td>...</td>\n",
              "      <td>...</td>\n",
              "      <td>...</td>\n",
              "    </tr>\n",
              "    <tr>\n",
              "      <th>6115</th>\n",
              "      <td>-0.042075</td>\n",
              "      <td>-0.225597</td>\n",
              "      <td>-0.207586</td>\n",
              "      <td>0.073015</td>\n",
              "      <td>-0.088079</td>\n",
              "      <td>-0.102896</td>\n",
              "      <td>-0.113035</td>\n",
              "      <td>0.015256</td>\n",
              "      <td>1.105180</td>\n",
              "      <td>-0.113853</td>\n",
              "      <td>...</td>\n",
              "      <td>-0.117025</td>\n",
              "      <td>-0.158851</td>\n",
              "      <td>-0.021762</td>\n",
              "      <td>0.124042</td>\n",
              "      <td>-0.147652</td>\n",
              "      <td>-0.136392</td>\n",
              "      <td>-0.201488</td>\n",
              "      <td>-0.175239</td>\n",
              "      <td>0.020338</td>\n",
              "      <td>-0.112868</td>\n",
              "    </tr>\n",
              "    <tr>\n",
              "      <th>6116</th>\n",
              "      <td>-0.039377</td>\n",
              "      <td>-0.224883</td>\n",
              "      <td>-0.206719</td>\n",
              "      <td>0.076545</td>\n",
              "      <td>-0.113477</td>\n",
              "      <td>-0.099403</td>\n",
              "      <td>-0.107251</td>\n",
              "      <td>0.012449</td>\n",
              "      <td>1.008989</td>\n",
              "      <td>-0.111783</td>\n",
              "      <td>...</td>\n",
              "      <td>-0.112076</td>\n",
              "      <td>-0.155694</td>\n",
              "      <td>-0.015829</td>\n",
              "      <td>0.128524</td>\n",
              "      <td>-0.145037</td>\n",
              "      <td>-0.136040</td>\n",
              "      <td>-0.201198</td>\n",
              "      <td>-0.173573</td>\n",
              "      <td>0.027856</td>\n",
              "      <td>-0.112868</td>\n",
              "    </tr>\n",
              "    <tr>\n",
              "      <th>6117</th>\n",
              "      <td>-0.038927</td>\n",
              "      <td>-0.224115</td>\n",
              "      <td>-0.205852</td>\n",
              "      <td>0.070249</td>\n",
              "      <td>-0.109895</td>\n",
              "      <td>-0.097488</td>\n",
              "      <td>-0.104215</td>\n",
              "      <td>0.008157</td>\n",
              "      <td>0.899756</td>\n",
              "      <td>-0.110058</td>\n",
              "      <td>...</td>\n",
              "      <td>-0.108856</td>\n",
              "      <td>-0.153508</td>\n",
              "      <td>-0.013357</td>\n",
              "      <td>0.120650</td>\n",
              "      <td>-0.143502</td>\n",
              "      <td>-0.135754</td>\n",
              "      <td>-0.199023</td>\n",
              "      <td>-0.171478</td>\n",
              "      <td>0.030675</td>\n",
              "      <td>-0.113346</td>\n",
              "    </tr>\n",
              "    <tr>\n",
              "      <th>6118</th>\n",
              "      <td>-0.040426</td>\n",
              "      <td>-0.223347</td>\n",
              "      <td>-0.204986</td>\n",
              "      <td>0.063380</td>\n",
              "      <td>-0.111415</td>\n",
              "      <td>-0.096700</td>\n",
              "      <td>-0.099444</td>\n",
              "      <td>0.005185</td>\n",
              "      <td>0.769344</td>\n",
              "      <td>-0.107988</td>\n",
              "      <td>...</td>\n",
              "      <td>-0.104802</td>\n",
              "      <td>-0.150836</td>\n",
              "      <td>-0.012368</td>\n",
              "      <td>0.111928</td>\n",
              "      <td>-0.142008</td>\n",
              "      <td>-0.135459</td>\n",
              "      <td>-0.197911</td>\n",
              "      <td>-0.170538</td>\n",
              "      <td>0.032084</td>\n",
              "      <td>-0.114540</td>\n",
              "    </tr>\n",
              "    <tr>\n",
              "      <th>6119</th>\n",
              "      <td>-0.040426</td>\n",
              "      <td>-0.222413</td>\n",
              "      <td>-0.203903</td>\n",
              "      <td>0.060137</td>\n",
              "      <td>-0.112500</td>\n",
              "      <td>-0.096474</td>\n",
              "      <td>-0.093950</td>\n",
              "      <td>0.005185</td>\n",
              "      <td>0.703471</td>\n",
              "      <td>-0.105918</td>\n",
              "      <td>...</td>\n",
              "      <td>-0.100091</td>\n",
              "      <td>-0.147679</td>\n",
              "      <td>-0.009895</td>\n",
              "      <td>0.107689</td>\n",
              "      <td>-0.140140</td>\n",
              "      <td>-0.135060</td>\n",
              "      <td>-0.196219</td>\n",
              "      <td>-0.168926</td>\n",
              "      <td>0.034433</td>\n",
              "      <td>-0.115257</td>\n",
              "    </tr>\n",
              "  </tbody>\n",
              "</table>\n",
              "<p>6120 rows × 31 columns</p>\n",
              "</div>\n",
              "      <button class=\"colab-df-convert\" onclick=\"convertToInteractive('df-017c90e7-3dde-4644-b54e-bbc20ae24ae6')\"\n",
              "              title=\"Convert this dataframe to an interactive table.\"\n",
              "              style=\"display:none;\">\n",
              "        \n",
              "  <svg xmlns=\"http://www.w3.org/2000/svg\" height=\"24px\"viewBox=\"0 0 24 24\"\n",
              "       width=\"24px\">\n",
              "    <path d=\"M0 0h24v24H0V0z\" fill=\"none\"/>\n",
              "    <path d=\"M18.56 5.44l.94 2.06.94-2.06 2.06-.94-2.06-.94-.94-2.06-.94 2.06-2.06.94zm-11 1L8.5 8.5l.94-2.06 2.06-.94-2.06-.94L8.5 2.5l-.94 2.06-2.06.94zm10 10l.94 2.06.94-2.06 2.06-.94-2.06-.94-.94-2.06-.94 2.06-2.06.94z\"/><path d=\"M17.41 7.96l-1.37-1.37c-.4-.4-.92-.59-1.43-.59-.52 0-1.04.2-1.43.59L10.3 9.45l-7.72 7.72c-.78.78-.78 2.05 0 2.83L4 21.41c.39.39.9.59 1.41.59.51 0 1.02-.2 1.41-.59l7.78-7.78 2.81-2.81c.8-.78.8-2.07 0-2.86zM5.41 20L4 18.59l7.72-7.72 1.47 1.35L5.41 20z\"/>\n",
              "  </svg>\n",
              "      </button>\n",
              "      \n",
              "  <style>\n",
              "    .colab-df-container {\n",
              "      display:flex;\n",
              "      flex-wrap:wrap;\n",
              "      gap: 12px;\n",
              "    }\n",
              "\n",
              "    .colab-df-convert {\n",
              "      background-color: #E8F0FE;\n",
              "      border: none;\n",
              "      border-radius: 50%;\n",
              "      cursor: pointer;\n",
              "      display: none;\n",
              "      fill: #1967D2;\n",
              "      height: 32px;\n",
              "      padding: 0 0 0 0;\n",
              "      width: 32px;\n",
              "    }\n",
              "\n",
              "    .colab-df-convert:hover {\n",
              "      background-color: #E2EBFA;\n",
              "      box-shadow: 0px 1px 2px rgba(60, 64, 67, 0.3), 0px 1px 3px 1px rgba(60, 64, 67, 0.15);\n",
              "      fill: #174EA6;\n",
              "    }\n",
              "\n",
              "    [theme=dark] .colab-df-convert {\n",
              "      background-color: #3B4455;\n",
              "      fill: #D2E3FC;\n",
              "    }\n",
              "\n",
              "    [theme=dark] .colab-df-convert:hover {\n",
              "      background-color: #434B5C;\n",
              "      box-shadow: 0px 1px 3px 1px rgba(0, 0, 0, 0.15);\n",
              "      filter: drop-shadow(0px 1px 2px rgba(0, 0, 0, 0.3));\n",
              "      fill: #FFFFFF;\n",
              "    }\n",
              "  </style>\n",
              "\n",
              "      <script>\n",
              "        const buttonEl =\n",
              "          document.querySelector('#df-017c90e7-3dde-4644-b54e-bbc20ae24ae6 button.colab-df-convert');\n",
              "        buttonEl.style.display =\n",
              "          google.colab.kernel.accessAllowed ? 'block' : 'none';\n",
              "\n",
              "        async function convertToInteractive(key) {\n",
              "          const element = document.querySelector('#df-017c90e7-3dde-4644-b54e-bbc20ae24ae6');\n",
              "          const dataTable =\n",
              "            await google.colab.kernel.invokeFunction('convertToInteractive',\n",
              "                                                     [key], {});\n",
              "          if (!dataTable) return;\n",
              "\n",
              "          const docLinkHtml = 'Like what you see? Visit the ' +\n",
              "            '<a target=\"_blank\" href=https://colab.research.google.com/notebooks/data_table.ipynb>data table notebook</a>'\n",
              "            + ' to learn more about interactive tables.';\n",
              "          element.innerHTML = '';\n",
              "          dataTable['output_type'] = 'display_data';\n",
              "          await google.colab.output.renderOutput(dataTable, element);\n",
              "          const docLink = document.createElement('div');\n",
              "          docLink.innerHTML = docLinkHtml;\n",
              "          element.appendChild(docLink);\n",
              "        }\n",
              "      </script>\n",
              "    </div>\n",
              "  </div>\n",
              "  "
            ]
          },
          "metadata": {},
          "execution_count": 60
        }
      ]
    },
    {
      "cell_type": "markdown",
      "source": [
        "# Aplicando o PCA para todos os possíveis fatores"
      ],
      "metadata": {
        "id": "VBnfUtzYF7Z1"
      }
    },
    {
      "cell_type": "code",
      "source": [
        "from sklearn.decomposition import PCA"
      ],
      "metadata": {
        "id": "ypqc4xxYCXYD"
      },
      "execution_count": 54,
      "outputs": []
    },
    {
      "cell_type": "code",
      "source": [
        "n_fatores = dados_padronizados.shape[1]\n",
        "n_fatores"
      ],
      "metadata": {
        "id": "XvjvLqU1C-QV",
        "colab": {
          "base_uri": "https://localhost:8080/"
        },
        "outputId": "745848e9-7cb4-4d96-c863-1d5eae8c1875"
      },
      "execution_count": 61,
      "outputs": [
        {
          "output_type": "execute_result",
          "data": {
            "text/plain": [
              "31"
            ]
          },
          "metadata": {},
          "execution_count": 61
        }
      ]
    },
    {
      "cell_type": "code",
      "source": [
        "pca = PCA(n_components= n_fatores)\n",
        "pca.fit(dados_padronizados)"
      ],
      "metadata": {
        "id": "J5SpkyStDOEH",
        "colab": {
          "base_uri": "https://localhost:8080/"
        },
        "outputId": "2f9423f1-f0c5-48da-9374-a3449c0aaf7b"
      },
      "execution_count": 62,
      "outputs": [
        {
          "output_type": "execute_result",
          "data": {
            "text/plain": [
              "PCA(n_components=31)"
            ]
          },
          "metadata": {},
          "execution_count": 62
        }
      ]
    },
    {
      "cell_type": "markdown",
      "source": [
        "## Checando os Autovalores, Autovetores e a Variância explicada pelos fatores"
      ],
      "metadata": {
        "id": "DPIwgUo4GEu0"
      }
    },
    {
      "cell_type": "code",
      "source": [
        "print(\"Auto-valores:\")\n",
        "print(pca.explained_variance_,'\\n')\n",
        "\n",
        "print(\"Auto-vetores:\")\n",
        "print(pca.components_,'\\n')\n",
        "\n",
        "print(\"Variância explicada:\")\n",
        "print(pca.explained_variance_ratio_,'\\n')"
      ],
      "metadata": {
        "id": "TwKGzTOinTHm"
      },
      "execution_count": null,
      "outputs": []
    },
    {
      "cell_type": "code",
      "source": [
        "import plotly.express as px\n",
        "import numpy as np"
      ],
      "metadata": {
        "id": "RRly0w1wNBCy"
      },
      "execution_count": 46,
      "outputs": []
    },
    {
      "cell_type": "code",
      "source": [
        "fatores = [f'F{i+1}' for i in range(n_fatores)]\n",
        "fatores"
      ],
      "metadata": {
        "id": "jrEOnQU5g0op"
      },
      "execution_count": null,
      "outputs": []
    },
    {
      "cell_type": "code",
      "source": [
        "fig = px.bar (x= fatores, y= pca.explained_variance_ratio_, text= np.around(pca.explained_variance_ratio_, decimals= 2), title= 'Scree Plot' )\n",
        "fig.update_layout(yaxis = { 'title': 'Porcentagem de variância explicada', 'tickfont' : { 'size' : 15}},\n",
        "                  xaxis= {'title' : 'Fatores', 'tickfont' : {'size' : 15}}, \n",
        "                  title = {'font' : {'size' : 25}})\n",
        "fig.show()"
      ],
      "metadata": {
        "colab": {
          "base_uri": "https://localhost:8080/",
          "height": 542
        },
        "id": "etFzwVpBkXXQ",
        "outputId": "98328fd9-38ab-48b9-8f10-f8dcf2cc967e"
      },
      "execution_count": 30,
      "outputs": [
        {
          "output_type": "display_data",
          "data": {
            "text/html": [
              "<html>\n",
              "<head><meta charset=\"utf-8\" /></head>\n",
              "<body>\n",
              "    <div>            <script src=\"https://cdnjs.cloudflare.com/ajax/libs/mathjax/2.7.5/MathJax.js?config=TeX-AMS-MML_SVG\"></script><script type=\"text/javascript\">if (window.MathJax) {MathJax.Hub.Config({SVG: {font: \"STIX-Web\"}});}</script>                <script type=\"text/javascript\">window.PlotlyConfig = {MathJaxConfig: 'local'};</script>\n",
              "        <script src=\"https://cdn.plot.ly/plotly-2.8.3.min.js\"></script>                <div id=\"4956fb62-2655-4004-88fa-0ad44e9dbcf2\" class=\"plotly-graph-div\" style=\"height:525px; width:100%;\"></div>            <script type=\"text/javascript\">                                    window.PLOTLYENV=window.PLOTLYENV || {};                                    if (document.getElementById(\"4956fb62-2655-4004-88fa-0ad44e9dbcf2\")) {                    Plotly.newPlot(                        \"4956fb62-2655-4004-88fa-0ad44e9dbcf2\",                        [{\"alignmentgroup\":\"True\",\"hovertemplate\":\"x=%{x}<br>y=%{y}<br>text=%{text}<extra></extra>\",\"legendgroup\":\"\",\"marker\":{\"color\":\"#636efa\",\"pattern\":{\"shape\":\"\"}},\"name\":\"\",\"offsetgroup\":\"\",\"orientation\":\"v\",\"showlegend\":false,\"text\":[0.59,0.15,0.05,0.04,0.03,0.03,0.03,0.02,0.02,0.02,0.01,0.0,0.0,0.0,0.0,0.0,0.0,0.0,0.0,0.0,0.0,0.0,0.0,0.0,0.0,0.0,0.0,0.0,0.0,0.0,0.0],\"textposition\":\"auto\",\"x\":[\"F1\",\"F2\",\"F3\",\"F4\",\"F5\",\"F6\",\"F7\",\"F8\",\"F9\",\"F10\",\"F11\",\"F12\",\"F13\",\"F14\",\"F15\",\"F16\",\"F17\",\"F18\",\"F19\",\"F20\",\"F21\",\"F22\",\"F23\",\"F24\",\"F25\",\"F26\",\"F27\",\"F28\",\"F29\",\"F30\",\"F31\"],\"xaxis\":\"x\",\"y\":[0.5910122405842045,0.14956002567374502,0.047191226391271164,0.03780929793158978,0.03218402719018236,0.03174592526746283,0.02515877808589206,0.019922548380308245,0.018853324826862108,0.01577227811946641,0.012355781893549554,0.004868916425005212,0.00392537272570498,0.002272898169369641,0.0012647265601987076,0.0011384156998883125,0.0009114758790528928,0.0008280018558947344,0.0006563847725836746,0.0005426422248315595,0.0004717171739420246,0.00032354172852096084,0.00029173043782280376,0.00022485798468259893,0.00018671187359876518,0.00016716216762349754,0.0001464990141430451,9.205390846975206e-05,5.838161086510226e-05,4.1107554859707156e-05,2.1947888407921554e-05],\"yaxis\":\"y\",\"type\":\"bar\"}],                        {\"template\":{\"data\":{\"bar\":[{\"error_x\":{\"color\":\"#2a3f5f\"},\"error_y\":{\"color\":\"#2a3f5f\"},\"marker\":{\"line\":{\"color\":\"#E5ECF6\",\"width\":0.5},\"pattern\":{\"fillmode\":\"overlay\",\"size\":10,\"solidity\":0.2}},\"type\":\"bar\"}],\"barpolar\":[{\"marker\":{\"line\":{\"color\":\"#E5ECF6\",\"width\":0.5},\"pattern\":{\"fillmode\":\"overlay\",\"size\":10,\"solidity\":0.2}},\"type\":\"barpolar\"}],\"carpet\":[{\"aaxis\":{\"endlinecolor\":\"#2a3f5f\",\"gridcolor\":\"white\",\"linecolor\":\"white\",\"minorgridcolor\":\"white\",\"startlinecolor\":\"#2a3f5f\"},\"baxis\":{\"endlinecolor\":\"#2a3f5f\",\"gridcolor\":\"white\",\"linecolor\":\"white\",\"minorgridcolor\":\"white\",\"startlinecolor\":\"#2a3f5f\"},\"type\":\"carpet\"}],\"choropleth\":[{\"colorbar\":{\"outlinewidth\":0,\"ticks\":\"\"},\"type\":\"choropleth\"}],\"contour\":[{\"colorbar\":{\"outlinewidth\":0,\"ticks\":\"\"},\"colorscale\":[[0.0,\"#0d0887\"],[0.1111111111111111,\"#46039f\"],[0.2222222222222222,\"#7201a8\"],[0.3333333333333333,\"#9c179e\"],[0.4444444444444444,\"#bd3786\"],[0.5555555555555556,\"#d8576b\"],[0.6666666666666666,\"#ed7953\"],[0.7777777777777778,\"#fb9f3a\"],[0.8888888888888888,\"#fdca26\"],[1.0,\"#f0f921\"]],\"type\":\"contour\"}],\"contourcarpet\":[{\"colorbar\":{\"outlinewidth\":0,\"ticks\":\"\"},\"type\":\"contourcarpet\"}],\"heatmap\":[{\"colorbar\":{\"outlinewidth\":0,\"ticks\":\"\"},\"colorscale\":[[0.0,\"#0d0887\"],[0.1111111111111111,\"#46039f\"],[0.2222222222222222,\"#7201a8\"],[0.3333333333333333,\"#9c179e\"],[0.4444444444444444,\"#bd3786\"],[0.5555555555555556,\"#d8576b\"],[0.6666666666666666,\"#ed7953\"],[0.7777777777777778,\"#fb9f3a\"],[0.8888888888888888,\"#fdca26\"],[1.0,\"#f0f921\"]],\"type\":\"heatmap\"}],\"heatmapgl\":[{\"colorbar\":{\"outlinewidth\":0,\"ticks\":\"\"},\"colorscale\":[[0.0,\"#0d0887\"],[0.1111111111111111,\"#46039f\"],[0.2222222222222222,\"#7201a8\"],[0.3333333333333333,\"#9c179e\"],[0.4444444444444444,\"#bd3786\"],[0.5555555555555556,\"#d8576b\"],[0.6666666666666666,\"#ed7953\"],[0.7777777777777778,\"#fb9f3a\"],[0.8888888888888888,\"#fdca26\"],[1.0,\"#f0f921\"]],\"type\":\"heatmapgl\"}],\"histogram\":[{\"marker\":{\"pattern\":{\"fillmode\":\"overlay\",\"size\":10,\"solidity\":0.2}},\"type\":\"histogram\"}],\"histogram2d\":[{\"colorbar\":{\"outlinewidth\":0,\"ticks\":\"\"},\"colorscale\":[[0.0,\"#0d0887\"],[0.1111111111111111,\"#46039f\"],[0.2222222222222222,\"#7201a8\"],[0.3333333333333333,\"#9c179e\"],[0.4444444444444444,\"#bd3786\"],[0.5555555555555556,\"#d8576b\"],[0.6666666666666666,\"#ed7953\"],[0.7777777777777778,\"#fb9f3a\"],[0.8888888888888888,\"#fdca26\"],[1.0,\"#f0f921\"]],\"type\":\"histogram2d\"}],\"histogram2dcontour\":[{\"colorbar\":{\"outlinewidth\":0,\"ticks\":\"\"},\"colorscale\":[[0.0,\"#0d0887\"],[0.1111111111111111,\"#46039f\"],[0.2222222222222222,\"#7201a8\"],[0.3333333333333333,\"#9c179e\"],[0.4444444444444444,\"#bd3786\"],[0.5555555555555556,\"#d8576b\"],[0.6666666666666666,\"#ed7953\"],[0.7777777777777778,\"#fb9f3a\"],[0.8888888888888888,\"#fdca26\"],[1.0,\"#f0f921\"]],\"type\":\"histogram2dcontour\"}],\"mesh3d\":[{\"colorbar\":{\"outlinewidth\":0,\"ticks\":\"\"},\"type\":\"mesh3d\"}],\"parcoords\":[{\"line\":{\"colorbar\":{\"outlinewidth\":0,\"ticks\":\"\"}},\"type\":\"parcoords\"}],\"pie\":[{\"automargin\":true,\"type\":\"pie\"}],\"scatter\":[{\"marker\":{\"colorbar\":{\"outlinewidth\":0,\"ticks\":\"\"}},\"type\":\"scatter\"}],\"scatter3d\":[{\"line\":{\"colorbar\":{\"outlinewidth\":0,\"ticks\":\"\"}},\"marker\":{\"colorbar\":{\"outlinewidth\":0,\"ticks\":\"\"}},\"type\":\"scatter3d\"}],\"scattercarpet\":[{\"marker\":{\"colorbar\":{\"outlinewidth\":0,\"ticks\":\"\"}},\"type\":\"scattercarpet\"}],\"scattergeo\":[{\"marker\":{\"colorbar\":{\"outlinewidth\":0,\"ticks\":\"\"}},\"type\":\"scattergeo\"}],\"scattergl\":[{\"marker\":{\"colorbar\":{\"outlinewidth\":0,\"ticks\":\"\"}},\"type\":\"scattergl\"}],\"scattermapbox\":[{\"marker\":{\"colorbar\":{\"outlinewidth\":0,\"ticks\":\"\"}},\"type\":\"scattermapbox\"}],\"scatterpolar\":[{\"marker\":{\"colorbar\":{\"outlinewidth\":0,\"ticks\":\"\"}},\"type\":\"scatterpolar\"}],\"scatterpolargl\":[{\"marker\":{\"colorbar\":{\"outlinewidth\":0,\"ticks\":\"\"}},\"type\":\"scatterpolargl\"}],\"scatterternary\":[{\"marker\":{\"colorbar\":{\"outlinewidth\":0,\"ticks\":\"\"}},\"type\":\"scatterternary\"}],\"surface\":[{\"colorbar\":{\"outlinewidth\":0,\"ticks\":\"\"},\"colorscale\":[[0.0,\"#0d0887\"],[0.1111111111111111,\"#46039f\"],[0.2222222222222222,\"#7201a8\"],[0.3333333333333333,\"#9c179e\"],[0.4444444444444444,\"#bd3786\"],[0.5555555555555556,\"#d8576b\"],[0.6666666666666666,\"#ed7953\"],[0.7777777777777778,\"#fb9f3a\"],[0.8888888888888888,\"#fdca26\"],[1.0,\"#f0f921\"]],\"type\":\"surface\"}],\"table\":[{\"cells\":{\"fill\":{\"color\":\"#EBF0F8\"},\"line\":{\"color\":\"white\"}},\"header\":{\"fill\":{\"color\":\"#C8D4E3\"},\"line\":{\"color\":\"white\"}},\"type\":\"table\"}]},\"layout\":{\"annotationdefaults\":{\"arrowcolor\":\"#2a3f5f\",\"arrowhead\":0,\"arrowwidth\":1},\"autotypenumbers\":\"strict\",\"coloraxis\":{\"colorbar\":{\"outlinewidth\":0,\"ticks\":\"\"}},\"colorscale\":{\"diverging\":[[0,\"#8e0152\"],[0.1,\"#c51b7d\"],[0.2,\"#de77ae\"],[0.3,\"#f1b6da\"],[0.4,\"#fde0ef\"],[0.5,\"#f7f7f7\"],[0.6,\"#e6f5d0\"],[0.7,\"#b8e186\"],[0.8,\"#7fbc41\"],[0.9,\"#4d9221\"],[1,\"#276419\"]],\"sequential\":[[0.0,\"#0d0887\"],[0.1111111111111111,\"#46039f\"],[0.2222222222222222,\"#7201a8\"],[0.3333333333333333,\"#9c179e\"],[0.4444444444444444,\"#bd3786\"],[0.5555555555555556,\"#d8576b\"],[0.6666666666666666,\"#ed7953\"],[0.7777777777777778,\"#fb9f3a\"],[0.8888888888888888,\"#fdca26\"],[1.0,\"#f0f921\"]],\"sequentialminus\":[[0.0,\"#0d0887\"],[0.1111111111111111,\"#46039f\"],[0.2222222222222222,\"#7201a8\"],[0.3333333333333333,\"#9c179e\"],[0.4444444444444444,\"#bd3786\"],[0.5555555555555556,\"#d8576b\"],[0.6666666666666666,\"#ed7953\"],[0.7777777777777778,\"#fb9f3a\"],[0.8888888888888888,\"#fdca26\"],[1.0,\"#f0f921\"]]},\"colorway\":[\"#636efa\",\"#EF553B\",\"#00cc96\",\"#ab63fa\",\"#FFA15A\",\"#19d3f3\",\"#FF6692\",\"#B6E880\",\"#FF97FF\",\"#FECB52\"],\"font\":{\"color\":\"#2a3f5f\"},\"geo\":{\"bgcolor\":\"white\",\"lakecolor\":\"white\",\"landcolor\":\"#E5ECF6\",\"showlakes\":true,\"showland\":true,\"subunitcolor\":\"white\"},\"hoverlabel\":{\"align\":\"left\"},\"hovermode\":\"closest\",\"mapbox\":{\"style\":\"light\"},\"paper_bgcolor\":\"white\",\"plot_bgcolor\":\"#E5ECF6\",\"polar\":{\"angularaxis\":{\"gridcolor\":\"white\",\"linecolor\":\"white\",\"ticks\":\"\"},\"bgcolor\":\"#E5ECF6\",\"radialaxis\":{\"gridcolor\":\"white\",\"linecolor\":\"white\",\"ticks\":\"\"}},\"scene\":{\"xaxis\":{\"backgroundcolor\":\"#E5ECF6\",\"gridcolor\":\"white\",\"gridwidth\":2,\"linecolor\":\"white\",\"showbackground\":true,\"ticks\":\"\",\"zerolinecolor\":\"white\"},\"yaxis\":{\"backgroundcolor\":\"#E5ECF6\",\"gridcolor\":\"white\",\"gridwidth\":2,\"linecolor\":\"white\",\"showbackground\":true,\"ticks\":\"\",\"zerolinecolor\":\"white\"},\"zaxis\":{\"backgroundcolor\":\"#E5ECF6\",\"gridcolor\":\"white\",\"gridwidth\":2,\"linecolor\":\"white\",\"showbackground\":true,\"ticks\":\"\",\"zerolinecolor\":\"white\"}},\"shapedefaults\":{\"line\":{\"color\":\"#2a3f5f\"}},\"ternary\":{\"aaxis\":{\"gridcolor\":\"white\",\"linecolor\":\"white\",\"ticks\":\"\"},\"baxis\":{\"gridcolor\":\"white\",\"linecolor\":\"white\",\"ticks\":\"\"},\"bgcolor\":\"#E5ECF6\",\"caxis\":{\"gridcolor\":\"white\",\"linecolor\":\"white\",\"ticks\":\"\"}},\"title\":{\"x\":0.05},\"xaxis\":{\"automargin\":true,\"gridcolor\":\"white\",\"linecolor\":\"white\",\"ticks\":\"\",\"title\":{\"standoff\":15},\"zerolinecolor\":\"white\",\"zerolinewidth\":2},\"yaxis\":{\"automargin\":true,\"gridcolor\":\"white\",\"linecolor\":\"white\",\"ticks\":\"\",\"title\":{\"standoff\":15},\"zerolinecolor\":\"white\",\"zerolinewidth\":2}}},\"xaxis\":{\"anchor\":\"y\",\"domain\":[0.0,1.0],\"title\":{\"text\":\"Fatores\"},\"tickfont\":{\"size\":15}},\"yaxis\":{\"anchor\":\"x\",\"domain\":[0.0,1.0],\"title\":{\"text\":\"Porcentagem de vari\\u00e2ncia explicada\"},\"tickfont\":{\"size\":15}},\"legend\":{\"tracegroupgap\":0},\"title\":{\"text\":\"Scree Plot\",\"font\":{\"size\":25}},\"barmode\":\"relative\"},                        {\"responsive\": true}                    ).then(function(){\n",
              "                            \n",
              "var gd = document.getElementById('4956fb62-2655-4004-88fa-0ad44e9dbcf2');\n",
              "var x = new MutationObserver(function (mutations, observer) {{\n",
              "        var display = window.getComputedStyle(gd).display;\n",
              "        if (!display || display === 'none') {{\n",
              "            console.log([gd, 'removed!']);\n",
              "            Plotly.purge(gd);\n",
              "            observer.disconnect();\n",
              "        }}\n",
              "}});\n",
              "\n",
              "// Listen for the removal of the full notebook cells\n",
              "var notebookContainer = gd.closest('#notebook-container');\n",
              "if (notebookContainer) {{\n",
              "    x.observe(notebookContainer, {childList: true});\n",
              "}}\n",
              "\n",
              "// Listen for the clearing of the current output cell\n",
              "var outputEl = gd.closest('.output');\n",
              "if (outputEl) {{\n",
              "    x.observe(outputEl, {childList: true});\n",
              "}}\n",
              "\n",
              "                        })                };                            </script>        </div>\n",
              "</body>\n",
              "</html>"
            ]
          },
          "metadata": {}
        }
      ]
    },
    {
      "cell_type": "code",
      "source": [
        "variancia_acumulada = [sum(pca.explained_variance_ratio_[0:i+1]) for i in range(n_fatores)]\n",
        "variancia_acumulada\n"
      ],
      "metadata": {
        "id": "BMfofBL2zhtI"
      },
      "execution_count": null,
      "outputs": []
    },
    {
      "cell_type": "markdown",
      "source": [
        "# Verificando os dois maiores Fatores"
      ],
      "metadata": {
        "id": "DlIMvqn-eO9N"
      }
    },
    {
      "cell_type": "code",
      "source": [
        "pca = PCA(n_components= 2)\n",
        "pca.fit(dados_padronizados)"
      ],
      "metadata": {
        "id": "202rTaQXnSCF",
        "colab": {
          "base_uri": "https://localhost:8080/"
        },
        "outputId": "873d2855-4b46-4d6b-d822-7f509bf7142c"
      },
      "execution_count": 31,
      "outputs": [
        {
          "output_type": "execute_result",
          "data": {
            "text/plain": [
              "PCA(n_components=2)"
            ]
          },
          "metadata": {},
          "execution_count": 31
        }
      ]
    },
    {
      "cell_type": "code",
      "source": [
        "fatores2 = [f'F{i+1}' for i in range(pca.n_components)]\n",
        "fatores2"
      ],
      "metadata": {
        "colab": {
          "base_uri": "https://localhost:8080/"
        },
        "id": "fTmf2poXyPTt",
        "outputId": "041746a5-7652-426d-ba65-bc84d9d19d00"
      },
      "execution_count": 42,
      "outputs": [
        {
          "output_type": "execute_result",
          "data": {
            "text/plain": [
              "['F1', 'F2']"
            ]
          },
          "metadata": {},
          "execution_count": 42
        }
      ]
    },
    {
      "cell_type": "code",
      "source": [
        "fig = px.bar (x= fatores2, y= pca.explained_variance_ratio_, text= np.around(pca.explained_variance_ratio_, decimals= 2), title= 'Scree Plot' )\n",
        "fig.update_layout(yaxis = { 'title': 'Porcentagem de variância explicada', 'tickfont' : { 'size' : 15}},\n",
        "                  xaxis= {'title' : 'Fatores', 'tickfont' : {'size' : 15}}, \n",
        "                  title = {'font' : {'size' : 25}})\n",
        "fig.show()"
      ],
      "metadata": {
        "colab": {
          "base_uri": "https://localhost:8080/",
          "height": 542
        },
        "id": "SWpK--gHyTqi",
        "outputId": "aea993c0-da70-4eef-fce4-e7bc1b978d58"
      },
      "execution_count": 43,
      "outputs": [
        {
          "output_type": "display_data",
          "data": {
            "text/html": [
              "<html>\n",
              "<head><meta charset=\"utf-8\" /></head>\n",
              "<body>\n",
              "    <div>            <script src=\"https://cdnjs.cloudflare.com/ajax/libs/mathjax/2.7.5/MathJax.js?config=TeX-AMS-MML_SVG\"></script><script type=\"text/javascript\">if (window.MathJax) {MathJax.Hub.Config({SVG: {font: \"STIX-Web\"}});}</script>                <script type=\"text/javascript\">window.PlotlyConfig = {MathJaxConfig: 'local'};</script>\n",
              "        <script src=\"https://cdn.plot.ly/plotly-2.8.3.min.js\"></script>                <div id=\"9b9e0dca-bd6f-4a85-a7ea-941aa6094f3d\" class=\"plotly-graph-div\" style=\"height:525px; width:100%;\"></div>            <script type=\"text/javascript\">                                    window.PLOTLYENV=window.PLOTLYENV || {};                                    if (document.getElementById(\"9b9e0dca-bd6f-4a85-a7ea-941aa6094f3d\")) {                    Plotly.newPlot(                        \"9b9e0dca-bd6f-4a85-a7ea-941aa6094f3d\",                        [{\"alignmentgroup\":\"True\",\"hovertemplate\":\"x=%{x}<br>y=%{y}<br>text=%{text}<extra></extra>\",\"legendgroup\":\"\",\"marker\":{\"color\":\"#636efa\",\"pattern\":{\"shape\":\"\"}},\"name\":\"\",\"offsetgroup\":\"\",\"orientation\":\"v\",\"showlegend\":false,\"text\":[0.59,0.15],\"textposition\":\"auto\",\"x\":[\"F1\",\"F2\"],\"xaxis\":\"x\",\"y\":[0.5910122405842048,0.14956002567374466],\"yaxis\":\"y\",\"type\":\"bar\"}],                        {\"template\":{\"data\":{\"bar\":[{\"error_x\":{\"color\":\"#2a3f5f\"},\"error_y\":{\"color\":\"#2a3f5f\"},\"marker\":{\"line\":{\"color\":\"#E5ECF6\",\"width\":0.5},\"pattern\":{\"fillmode\":\"overlay\",\"size\":10,\"solidity\":0.2}},\"type\":\"bar\"}],\"barpolar\":[{\"marker\":{\"line\":{\"color\":\"#E5ECF6\",\"width\":0.5},\"pattern\":{\"fillmode\":\"overlay\",\"size\":10,\"solidity\":0.2}},\"type\":\"barpolar\"}],\"carpet\":[{\"aaxis\":{\"endlinecolor\":\"#2a3f5f\",\"gridcolor\":\"white\",\"linecolor\":\"white\",\"minorgridcolor\":\"white\",\"startlinecolor\":\"#2a3f5f\"},\"baxis\":{\"endlinecolor\":\"#2a3f5f\",\"gridcolor\":\"white\",\"linecolor\":\"white\",\"minorgridcolor\":\"white\",\"startlinecolor\":\"#2a3f5f\"},\"type\":\"carpet\"}],\"choropleth\":[{\"colorbar\":{\"outlinewidth\":0,\"ticks\":\"\"},\"type\":\"choropleth\"}],\"contour\":[{\"colorbar\":{\"outlinewidth\":0,\"ticks\":\"\"},\"colorscale\":[[0.0,\"#0d0887\"],[0.1111111111111111,\"#46039f\"],[0.2222222222222222,\"#7201a8\"],[0.3333333333333333,\"#9c179e\"],[0.4444444444444444,\"#bd3786\"],[0.5555555555555556,\"#d8576b\"],[0.6666666666666666,\"#ed7953\"],[0.7777777777777778,\"#fb9f3a\"],[0.8888888888888888,\"#fdca26\"],[1.0,\"#f0f921\"]],\"type\":\"contour\"}],\"contourcarpet\":[{\"colorbar\":{\"outlinewidth\":0,\"ticks\":\"\"},\"type\":\"contourcarpet\"}],\"heatmap\":[{\"colorbar\":{\"outlinewidth\":0,\"ticks\":\"\"},\"colorscale\":[[0.0,\"#0d0887\"],[0.1111111111111111,\"#46039f\"],[0.2222222222222222,\"#7201a8\"],[0.3333333333333333,\"#9c179e\"],[0.4444444444444444,\"#bd3786\"],[0.5555555555555556,\"#d8576b\"],[0.6666666666666666,\"#ed7953\"],[0.7777777777777778,\"#fb9f3a\"],[0.8888888888888888,\"#fdca26\"],[1.0,\"#f0f921\"]],\"type\":\"heatmap\"}],\"heatmapgl\":[{\"colorbar\":{\"outlinewidth\":0,\"ticks\":\"\"},\"colorscale\":[[0.0,\"#0d0887\"],[0.1111111111111111,\"#46039f\"],[0.2222222222222222,\"#7201a8\"],[0.3333333333333333,\"#9c179e\"],[0.4444444444444444,\"#bd3786\"],[0.5555555555555556,\"#d8576b\"],[0.6666666666666666,\"#ed7953\"],[0.7777777777777778,\"#fb9f3a\"],[0.8888888888888888,\"#fdca26\"],[1.0,\"#f0f921\"]],\"type\":\"heatmapgl\"}],\"histogram\":[{\"marker\":{\"pattern\":{\"fillmode\":\"overlay\",\"size\":10,\"solidity\":0.2}},\"type\":\"histogram\"}],\"histogram2d\":[{\"colorbar\":{\"outlinewidth\":0,\"ticks\":\"\"},\"colorscale\":[[0.0,\"#0d0887\"],[0.1111111111111111,\"#46039f\"],[0.2222222222222222,\"#7201a8\"],[0.3333333333333333,\"#9c179e\"],[0.4444444444444444,\"#bd3786\"],[0.5555555555555556,\"#d8576b\"],[0.6666666666666666,\"#ed7953\"],[0.7777777777777778,\"#fb9f3a\"],[0.8888888888888888,\"#fdca26\"],[1.0,\"#f0f921\"]],\"type\":\"histogram2d\"}],\"histogram2dcontour\":[{\"colorbar\":{\"outlinewidth\":0,\"ticks\":\"\"},\"colorscale\":[[0.0,\"#0d0887\"],[0.1111111111111111,\"#46039f\"],[0.2222222222222222,\"#7201a8\"],[0.3333333333333333,\"#9c179e\"],[0.4444444444444444,\"#bd3786\"],[0.5555555555555556,\"#d8576b\"],[0.6666666666666666,\"#ed7953\"],[0.7777777777777778,\"#fb9f3a\"],[0.8888888888888888,\"#fdca26\"],[1.0,\"#f0f921\"]],\"type\":\"histogram2dcontour\"}],\"mesh3d\":[{\"colorbar\":{\"outlinewidth\":0,\"ticks\":\"\"},\"type\":\"mesh3d\"}],\"parcoords\":[{\"line\":{\"colorbar\":{\"outlinewidth\":0,\"ticks\":\"\"}},\"type\":\"parcoords\"}],\"pie\":[{\"automargin\":true,\"type\":\"pie\"}],\"scatter\":[{\"marker\":{\"colorbar\":{\"outlinewidth\":0,\"ticks\":\"\"}},\"type\":\"scatter\"}],\"scatter3d\":[{\"line\":{\"colorbar\":{\"outlinewidth\":0,\"ticks\":\"\"}},\"marker\":{\"colorbar\":{\"outlinewidth\":0,\"ticks\":\"\"}},\"type\":\"scatter3d\"}],\"scattercarpet\":[{\"marker\":{\"colorbar\":{\"outlinewidth\":0,\"ticks\":\"\"}},\"type\":\"scattercarpet\"}],\"scattergeo\":[{\"marker\":{\"colorbar\":{\"outlinewidth\":0,\"ticks\":\"\"}},\"type\":\"scattergeo\"}],\"scattergl\":[{\"marker\":{\"colorbar\":{\"outlinewidth\":0,\"ticks\":\"\"}},\"type\":\"scattergl\"}],\"scattermapbox\":[{\"marker\":{\"colorbar\":{\"outlinewidth\":0,\"ticks\":\"\"}},\"type\":\"scattermapbox\"}],\"scatterpolar\":[{\"marker\":{\"colorbar\":{\"outlinewidth\":0,\"ticks\":\"\"}},\"type\":\"scatterpolar\"}],\"scatterpolargl\":[{\"marker\":{\"colorbar\":{\"outlinewidth\":0,\"ticks\":\"\"}},\"type\":\"scatterpolargl\"}],\"scatterternary\":[{\"marker\":{\"colorbar\":{\"outlinewidth\":0,\"ticks\":\"\"}},\"type\":\"scatterternary\"}],\"surface\":[{\"colorbar\":{\"outlinewidth\":0,\"ticks\":\"\"},\"colorscale\":[[0.0,\"#0d0887\"],[0.1111111111111111,\"#46039f\"],[0.2222222222222222,\"#7201a8\"],[0.3333333333333333,\"#9c179e\"],[0.4444444444444444,\"#bd3786\"],[0.5555555555555556,\"#d8576b\"],[0.6666666666666666,\"#ed7953\"],[0.7777777777777778,\"#fb9f3a\"],[0.8888888888888888,\"#fdca26\"],[1.0,\"#f0f921\"]],\"type\":\"surface\"}],\"table\":[{\"cells\":{\"fill\":{\"color\":\"#EBF0F8\"},\"line\":{\"color\":\"white\"}},\"header\":{\"fill\":{\"color\":\"#C8D4E3\"},\"line\":{\"color\":\"white\"}},\"type\":\"table\"}]},\"layout\":{\"annotationdefaults\":{\"arrowcolor\":\"#2a3f5f\",\"arrowhead\":0,\"arrowwidth\":1},\"autotypenumbers\":\"strict\",\"coloraxis\":{\"colorbar\":{\"outlinewidth\":0,\"ticks\":\"\"}},\"colorscale\":{\"diverging\":[[0,\"#8e0152\"],[0.1,\"#c51b7d\"],[0.2,\"#de77ae\"],[0.3,\"#f1b6da\"],[0.4,\"#fde0ef\"],[0.5,\"#f7f7f7\"],[0.6,\"#e6f5d0\"],[0.7,\"#b8e186\"],[0.8,\"#7fbc41\"],[0.9,\"#4d9221\"],[1,\"#276419\"]],\"sequential\":[[0.0,\"#0d0887\"],[0.1111111111111111,\"#46039f\"],[0.2222222222222222,\"#7201a8\"],[0.3333333333333333,\"#9c179e\"],[0.4444444444444444,\"#bd3786\"],[0.5555555555555556,\"#d8576b\"],[0.6666666666666666,\"#ed7953\"],[0.7777777777777778,\"#fb9f3a\"],[0.8888888888888888,\"#fdca26\"],[1.0,\"#f0f921\"]],\"sequentialminus\":[[0.0,\"#0d0887\"],[0.1111111111111111,\"#46039f\"],[0.2222222222222222,\"#7201a8\"],[0.3333333333333333,\"#9c179e\"],[0.4444444444444444,\"#bd3786\"],[0.5555555555555556,\"#d8576b\"],[0.6666666666666666,\"#ed7953\"],[0.7777777777777778,\"#fb9f3a\"],[0.8888888888888888,\"#fdca26\"],[1.0,\"#f0f921\"]]},\"colorway\":[\"#636efa\",\"#EF553B\",\"#00cc96\",\"#ab63fa\",\"#FFA15A\",\"#19d3f3\",\"#FF6692\",\"#B6E880\",\"#FF97FF\",\"#FECB52\"],\"font\":{\"color\":\"#2a3f5f\"},\"geo\":{\"bgcolor\":\"white\",\"lakecolor\":\"white\",\"landcolor\":\"#E5ECF6\",\"showlakes\":true,\"showland\":true,\"subunitcolor\":\"white\"},\"hoverlabel\":{\"align\":\"left\"},\"hovermode\":\"closest\",\"mapbox\":{\"style\":\"light\"},\"paper_bgcolor\":\"white\",\"plot_bgcolor\":\"#E5ECF6\",\"polar\":{\"angularaxis\":{\"gridcolor\":\"white\",\"linecolor\":\"white\",\"ticks\":\"\"},\"bgcolor\":\"#E5ECF6\",\"radialaxis\":{\"gridcolor\":\"white\",\"linecolor\":\"white\",\"ticks\":\"\"}},\"scene\":{\"xaxis\":{\"backgroundcolor\":\"#E5ECF6\",\"gridcolor\":\"white\",\"gridwidth\":2,\"linecolor\":\"white\",\"showbackground\":true,\"ticks\":\"\",\"zerolinecolor\":\"white\"},\"yaxis\":{\"backgroundcolor\":\"#E5ECF6\",\"gridcolor\":\"white\",\"gridwidth\":2,\"linecolor\":\"white\",\"showbackground\":true,\"ticks\":\"\",\"zerolinecolor\":\"white\"},\"zaxis\":{\"backgroundcolor\":\"#E5ECF6\",\"gridcolor\":\"white\",\"gridwidth\":2,\"linecolor\":\"white\",\"showbackground\":true,\"ticks\":\"\",\"zerolinecolor\":\"white\"}},\"shapedefaults\":{\"line\":{\"color\":\"#2a3f5f\"}},\"ternary\":{\"aaxis\":{\"gridcolor\":\"white\",\"linecolor\":\"white\",\"ticks\":\"\"},\"baxis\":{\"gridcolor\":\"white\",\"linecolor\":\"white\",\"ticks\":\"\"},\"bgcolor\":\"#E5ECF6\",\"caxis\":{\"gridcolor\":\"white\",\"linecolor\":\"white\",\"ticks\":\"\"}},\"title\":{\"x\":0.05},\"xaxis\":{\"automargin\":true,\"gridcolor\":\"white\",\"linecolor\":\"white\",\"ticks\":\"\",\"title\":{\"standoff\":15},\"zerolinecolor\":\"white\",\"zerolinewidth\":2},\"yaxis\":{\"automargin\":true,\"gridcolor\":\"white\",\"linecolor\":\"white\",\"ticks\":\"\",\"title\":{\"standoff\":15},\"zerolinecolor\":\"white\",\"zerolinewidth\":2}}},\"xaxis\":{\"anchor\":\"y\",\"domain\":[0.0,1.0],\"title\":{\"text\":\"Fatores\"},\"tickfont\":{\"size\":15}},\"yaxis\":{\"anchor\":\"x\",\"domain\":[0.0,1.0],\"title\":{\"text\":\"Porcentagem de vari\\u00e2ncia explicada\"},\"tickfont\":{\"size\":15}},\"legend\":{\"tracegroupgap\":0},\"title\":{\"text\":\"Scree Plot\",\"font\":{\"size\":25}},\"barmode\":\"relative\"},                        {\"responsive\": true}                    ).then(function(){\n",
              "                            \n",
              "var gd = document.getElementById('9b9e0dca-bd6f-4a85-a7ea-941aa6094f3d');\n",
              "var x = new MutationObserver(function (mutations, observer) {{\n",
              "        var display = window.getComputedStyle(gd).display;\n",
              "        if (!display || display === 'none') {{\n",
              "            console.log([gd, 'removed!']);\n",
              "            Plotly.purge(gd);\n",
              "            observer.disconnect();\n",
              "        }}\n",
              "}});\n",
              "\n",
              "// Listen for the removal of the full notebook cells\n",
              "var notebookContainer = gd.closest('#notebook-container');\n",
              "if (notebookContainer) {{\n",
              "    x.observe(notebookContainer, {childList: true});\n",
              "}}\n",
              "\n",
              "// Listen for the clearing of the current output cell\n",
              "var outputEl = gd.closest('.output');\n",
              "if (outputEl) {{\n",
              "    x.observe(outputEl, {childList: true});\n",
              "}}\n",
              "\n",
              "                        })                };                            </script>        </div>\n",
              "</body>\n",
              "</html>"
            ]
          },
          "metadata": {}
        }
      ]
    },
    {
      "cell_type": "code",
      "source": [],
      "metadata": {
        "id": "l7VZ_RHfya3k"
      },
      "execution_count": null,
      "outputs": []
    }
  ]
}